{
 "cells": [
  {
   "cell_type": "code",
   "execution_count": 2,
   "metadata": {},
   "outputs": [],
   "source": [
    "import quarto\n",
    "import random\n",
    "import logging\n",
    "import pickle\n",
    "from tqdm import tqdm\n",
    "import math"
   ]
  },
  {
   "cell_type": "markdown",
   "metadata": {},
   "source": [
    "# MinMax Player (champion for the tournament)"
   ]
  },
  {
   "cell_type": "markdown",
   "metadata": {},
   "source": [
    "## Testing functions"
   ]
  },
  {
   "cell_type": "code",
   "execution_count": 2,
   "metadata": {},
   "outputs": [],
   "source": [
    "def test_minmax(strategy=3, bound_value=math.factorial(5)**2, randomness=True, n_games = 100):\n",
    "    '''tests how many times minmax wins against the random'''\n",
    "    games_won = 0\n",
    "    draws = 0\n",
    "    turns = []\n",
    "    for i in tqdm(range(n_games), ncols=70):\n",
    "        game = quarto.Quarto()\n",
    "        player1 = quarto.MinMaxPlayer(game, strategy=strategy, bound_value=bound_value, randomness=randomness)\n",
    "        player2 = quarto.RandomPlayer(game)\n",
    "        if random.random() < 0.5:\n",
    "            game.set_players((player1, player2))\n",
    "            winner = game.run(verbose=False)\n",
    "            if winner == 0: games_won +=1 \n",
    "            if winner == -1: draws+=1\n",
    "            #count the remaining empty spots to count the turns\n",
    "            turns.append(16 - sum(sum(game.get_board_status() == -1)))\n",
    "        else:\n",
    "            game.set_players((player2, player1))\n",
    "            winner = game.run(verbose=False)\n",
    "            if winner == 1: games_won+=1\n",
    "            if winner == -1: draws+=1\n",
    "            #count the remaining empty spots to count the turns\n",
    "            turns.append(16 - sum(sum(game.get_board_status() == -1)))\n",
    "    print(f'Games won = {games_won*100/n_games}%')\n",
    "    print(f'Draws = {draws*100/n_games}%')\n",
    "    print(f'Average turns = {sum(turns)/len(turns)}')\n",
    "    return games_won*100/n_games"
   ]
  },
  {
   "cell_type": "code",
   "execution_count": null,
   "metadata": {},
   "outputs": [],
   "source": [
    "def minmaxVSminmax(strategy1=3, bound_value1=math.factorial(5)**2, randomness1=True, \n",
    "                    strategy2=3, bound_value2=math.factorial(5)**2, randomness2=True, n_games = 100):\n",
    "    '''challenge one minmax player against another'''\n",
    "    games_won = 0\n",
    "    draws = 0\n",
    "    turns = []\n",
    "    for i in tqdm(range(n_games), ncols=70):\n",
    "        game = quarto.Quarto()\n",
    "        player1 = quarto.MinMaxPlayer(game, strategy=strategy1, bound_value=bound_value1, randomness=randomness1)\n",
    "        player2 = quarto.MinMaxPlayer(game, strategy=strategy2, bound_value=bound_value2, randomness=randomness2)\n",
    "        if random.random() < 0.5:\n",
    "            game.set_players((player1, player2))\n",
    "            winner = game.run(verbose=False)\n",
    "            if winner == 0: games_won +=1 \n",
    "            if winner == -1: draws+=1\n",
    "            #count the remaining empty spots to count the turns\n",
    "            turns.append(16 - sum(sum(game.get_board_status() == -1)))\n",
    "        else:\n",
    "            game.set_players((player2, player1))\n",
    "            winner = game.run(verbose=False)\n",
    "            if winner == 1: games_won+=1\n",
    "            if winner == -1: draws+=1\n",
    "            #count the remaining empty spots to count the turns\n",
    "            turns.append(16 - sum(sum(game.get_board_status() == -1)))\n",
    "    print(f'Games won = {games_won*100/n_games}%')\n",
    "    print(f'Draws = {draws*100/n_games}%')\n",
    "    print(f'Average turns = {sum(turns)/len(turns)}')\n",
    "    return games_won*100/n_games"
   ]
  },
  {
   "cell_type": "markdown",
   "metadata": {},
   "source": [
    "### Play one game\n",
    "In the following block we will show one example game using the default configuration with bound=3 and bound_value = math.factorial(5)**2"
   ]
  },
  {
   "cell_type": "code",
   "execution_count": 4,
   "metadata": {},
   "outputs": [
    {
     "name": "stdout",
     "output_type": "stream",
     "text": [
      "\n",
      " -------------------\n",
      "| -1 | -1 | -1 | -1 |\n",
      " -------------------\n",
      "| -1 | -1 | -1 | -1 |\n",
      " -------------------\n",
      "| -1 | -1 | -1 | -1 |\n",
      " -------------------\n",
      "| -1 | -1 | -1 | -1 |\n",
      " -------------------\n",
      "\n",
      "Selected piece: -1\n",
      "\n",
      "\n",
      " -------------------\n",
      "| -1 | -1 | -1 | -1 |\n",
      " -------------------\n",
      "| -1 | -1 | -1 | -1 |\n",
      " -------------------\n",
      "| -1 | -1 | -1 | -1 |\n",
      " -------------------\n",
      "| -1 | -1 | -1 | -1 |\n",
      " -------------------\n",
      "\n",
      "Selected piece: 6\n",
      "\n",
      "\n",
      " -------------------\n",
      "| -1 | -1 | -1 | -1 |\n",
      " -------------------\n",
      "|  6 | -1 | -1 | -1 |\n",
      " -------------------\n",
      "| -1 | -1 | -1 | -1 |\n",
      " -------------------\n",
      "| -1 | -1 | -1 | -1 |\n",
      " -------------------\n",
      "\n",
      "Selected piece: 6\n",
      "\n",
      "\n",
      " -------------------\n",
      "| -1 | -1 | -1 | -1 |\n",
      " -------------------\n",
      "|  6 | -1 | -1 | -1 |\n",
      " -------------------\n",
      "| -1 | -1 | -1 | -1 |\n",
      " -------------------\n",
      "| -1 | -1 | -1 | -1 |\n",
      " -------------------\n",
      "\n",
      "Selected piece: 12\n",
      "\n",
      "\n",
      " -------------------\n",
      "| 12 | -1 | -1 | -1 |\n",
      " -------------------\n",
      "|  6 | -1 | -1 | -1 |\n",
      " -------------------\n",
      "| -1 | -1 | -1 | -1 |\n",
      " -------------------\n",
      "| -1 | -1 | -1 | -1 |\n",
      " -------------------\n",
      "\n",
      "Selected piece: 12\n",
      "\n",
      "\n",
      " -------------------\n",
      "| 12 | -1 | -1 | -1 |\n",
      " -------------------\n",
      "|  6 | -1 | -1 | -1 |\n",
      " -------------------\n",
      "| -1 | -1 | -1 | -1 |\n",
      " -------------------\n",
      "| -1 | -1 | -1 | -1 |\n",
      " -------------------\n",
      "\n",
      "Selected piece: 0\n",
      "\n",
      "\n",
      " -------------------\n",
      "| 12 | -1 | -1 | -1 |\n",
      " -------------------\n",
      "|  6 | -1 | -1 | -1 |\n",
      " -------------------\n",
      "| -1 | -1 | -1 | -1 |\n",
      " -------------------\n",
      "| -1 | -1 |  0 | -1 |\n",
      " -------------------\n",
      "\n",
      "Selected piece: 0\n",
      "\n",
      "\n",
      " -------------------\n",
      "| 12 | -1 | -1 | -1 |\n",
      " -------------------\n",
      "|  6 | -1 | -1 | -1 |\n",
      " -------------------\n",
      "| -1 | -1 | -1 | -1 |\n",
      " -------------------\n",
      "| -1 | -1 |  0 | -1 |\n",
      " -------------------\n",
      "\n",
      "Selected piece: 1\n",
      "\n",
      "\n",
      " -------------------\n",
      "| 12 | -1 | -1 | -1 |\n",
      " -------------------\n",
      "|  6 | -1 | -1 | -1 |\n",
      " -------------------\n",
      "|  1 | -1 | -1 | -1 |\n",
      " -------------------\n",
      "| -1 | -1 |  0 | -1 |\n",
      " -------------------\n",
      "\n",
      "Selected piece: 1\n",
      "\n",
      "\n",
      " -------------------\n",
      "| 12 | -1 | -1 | -1 |\n",
      " -------------------\n",
      "|  6 | -1 | -1 | -1 |\n",
      " -------------------\n",
      "|  1 | -1 | -1 | -1 |\n",
      " -------------------\n",
      "| -1 | -1 |  0 | -1 |\n",
      " -------------------\n",
      "\n",
      "Selected piece: 2\n",
      "\n",
      "\n",
      " -------------------\n",
      "| 12 | -1 | -1 | -1 |\n",
      " -------------------\n",
      "|  6 | -1 | -1 | -1 |\n",
      " -------------------\n",
      "|  1 |  2 | -1 | -1 |\n",
      " -------------------\n",
      "| -1 | -1 |  0 | -1 |\n",
      " -------------------\n",
      "\n",
      "Selected piece: 2\n",
      "\n",
      "\n",
      " -------------------\n",
      "| 12 | -1 | -1 | -1 |\n",
      " -------------------\n",
      "|  6 | -1 | -1 | -1 |\n",
      " -------------------\n",
      "|  1 |  2 | -1 | -1 |\n",
      " -------------------\n",
      "| -1 | -1 |  0 | -1 |\n",
      " -------------------\n",
      "\n",
      "Selected piece: 10\n",
      "\n",
      "\n",
      " -------------------\n",
      "| 12 | -1 | -1 | -1 |\n",
      " -------------------\n",
      "|  6 | -1 | -1 | -1 |\n",
      " -------------------\n",
      "|  1 |  2 | -1 | -1 |\n",
      " -------------------\n",
      "| 10 | -1 |  0 | -1 |\n",
      " -------------------\n",
      "\n",
      "Selected piece: 10\n",
      "\n",
      "\n",
      " -------------------\n",
      "| 12 | -1 | -1 | -1 |\n",
      " -------------------\n",
      "|  6 | -1 | -1 | -1 |\n",
      " -------------------\n",
      "|  1 |  2 | -1 | -1 |\n",
      " -------------------\n",
      "| 10 | -1 |  0 | -1 |\n",
      " -------------------\n",
      "\n",
      "Selected piece: 3\n",
      "\n",
      "\n",
      " -------------------\n",
      "| 12 | -1 | -1 | -1 |\n",
      " -------------------\n",
      "|  6 | -1 |  3 | -1 |\n",
      " -------------------\n",
      "|  1 |  2 | -1 | -1 |\n",
      " -------------------\n",
      "| 10 | -1 |  0 | -1 |\n",
      " -------------------\n",
      "\n",
      "Selected piece: 3\n",
      "\n",
      "\n",
      " -------------------\n",
      "| 12 | -1 | -1 | -1 |\n",
      " -------------------\n",
      "|  6 | -1 |  3 | -1 |\n",
      " -------------------\n",
      "|  1 |  2 | -1 | -1 |\n",
      " -------------------\n",
      "| 10 | -1 |  0 | -1 |\n",
      " -------------------\n",
      "\n",
      "Selected piece: 15\n",
      "\n",
      "\n",
      " -------------------\n",
      "| 12 | -1 | -1 | 15 |\n",
      " -------------------\n",
      "|  6 | -1 |  3 | -1 |\n",
      " -------------------\n",
      "|  1 |  2 | -1 | -1 |\n",
      " -------------------\n",
      "| 10 | -1 |  0 | -1 |\n",
      " -------------------\n",
      "\n",
      "Selected piece: 15\n",
      "\n",
      "main: Winner: player 0\n"
     ]
    }
   ],
   "source": [
    "game = quarto.Quarto()\n",
    "game.set_players((quarto.MinMaxPlayer(game), quarto.RandomPlayer(game)))\n",
    "winner = game.run()\n",
    "print(f\"main: Winner: player {winner}\") "
   ]
  },
  {
   "cell_type": "markdown",
   "metadata": {},
   "source": [
    "## Test the player with different configurations against the random"
   ]
  },
  {
   "cell_type": "code",
   "execution_count": 18,
   "metadata": {},
   "outputs": [
    {
     "name": "stderr",
     "output_type": "stream",
     "text": [
      "100%|█████████████████████████████| 1000/1000 [42:16<00:00,  2.54s/it]"
     ]
    },
    {
     "name": "stdout",
     "output_type": "stream",
     "text": [
      "Games won = 99.8%\n",
      "Draws = 0.0%\n",
      "Average turns = 8.837\n"
     ]
    },
    {
     "name": "stderr",
     "output_type": "stream",
     "text": [
      "\n"
     ]
    }
   ],
   "source": [
    "winrate = test_minmax(strategy=3, bound_value=math.factorial(5)**2, randomness=True, n_games=1000)"
   ]
  },
  {
   "cell_type": "code",
   "execution_count": 18,
   "metadata": {},
   "outputs": [
    {
     "name": "stderr",
     "output_type": "stream",
     "text": [
      "100%|█████████████████████████████| 1000/1000 [25:30<00:00,  1.53s/it]"
     ]
    },
    {
     "name": "stdout",
     "output_type": "stream",
     "text": [
      "Games won = 95.7%\n",
      "Draws = 1.4%\n",
      "Average turns = 9.872\n"
     ]
    },
    {
     "name": "stderr",
     "output_type": "stream",
     "text": [
      "\n"
     ]
    }
   ],
   "source": [
    "winrate = test_minmax(strategy=2, bound_value=math.factorial(6)**2, randomness=True, n_games=1000)"
   ]
  },
  {
   "cell_type": "code",
   "execution_count": 26,
   "metadata": {},
   "outputs": [
    {
     "name": "stderr",
     "output_type": "stream",
     "text": [
      "100%|█████████████████████████████| 1000/1000 [04:53<00:00,  3.40it/s]"
     ]
    },
    {
     "name": "stdout",
     "output_type": "stream",
     "text": [
      "Games won = 90.9%\n",
      "Draws = 2.8%\n",
      "Average turns = 9.796\n"
     ]
    },
    {
     "name": "stderr",
     "output_type": "stream",
     "text": [
      "\n"
     ]
    }
   ],
   "source": [
    "winrate = test_minmax(strategy=1, bound_value=1, randomness=True, n_games=1000)"
   ]
  },
  {
   "cell_type": "markdown",
   "metadata": {},
   "source": [
    "### Test one minmax agent against the other using different configurations"
   ]
  },
  {
   "cell_type": "code",
   "execution_count": 13,
   "metadata": {},
   "outputs": [
    {
     "name": "stderr",
     "output_type": "stream",
     "text": [
      "100%|███████████████████████████████| 100/100 [01:13<00:00,  1.37it/s]"
     ]
    },
    {
     "name": "stdout",
     "output_type": "stream",
     "text": [
      "Games won = 54.0%\n",
      "Draws = 1.0%\n",
      "Average turns = 10.06\n"
     ]
    },
    {
     "name": "stderr",
     "output_type": "stream",
     "text": [
      "\n"
     ]
    }
   ],
   "source": [
    "# strategy 1 minmax VS strategy 2 with math.factorial(5)**2\n",
    "winrate = minmaxVSminmax(strategy1=1, bound_value1=1, strategy2=2, bound_value2=math.factorial(5)**2)"
   ]
  },
  {
   "cell_type": "code",
   "execution_count": 11,
   "metadata": {},
   "outputs": [
    {
     "name": "stderr",
     "output_type": "stream",
     "text": [
      "100%|███████████████████████████████| 100/100 [06:47<00:00,  4.08s/it]"
     ]
    },
    {
     "name": "stdout",
     "output_type": "stream",
     "text": [
      "Games won = 5.0%\n",
      "Draws = 0.0%\n",
      "Average turns = 10.5\n"
     ]
    },
    {
     "name": "stderr",
     "output_type": "stream",
     "text": [
      "\n"
     ]
    }
   ],
   "source": [
    "# strategy 1 minmax VS strategy 3 with math.factorial(5)**2\n",
    "winrate = minmaxVSminmax(strategy1=1, bound_value1=1, strategy2=3, bound_value2=math.factorial(5)**2)"
   ]
  },
  {
   "cell_type": "code",
   "execution_count": 15,
   "metadata": {},
   "outputs": [
    {
     "name": "stderr",
     "output_type": "stream",
     "text": [
      "100%|███████████████████████████████| 100/100 [06:00<00:00,  3.61s/it]"
     ]
    },
    {
     "name": "stdout",
     "output_type": "stream",
     "text": [
      "Games won = 4.0%\n",
      "Draws = 1.0%\n",
      "Average turns = 10.12\n"
     ]
    },
    {
     "name": "stderr",
     "output_type": "stream",
     "text": [
      "\n"
     ]
    }
   ],
   "source": [
    "# strategy 2 minmax with math.factorial(5)**2 VS strategy 3 minmax with math.factorial(5)**2\n",
    "winrate = minmaxVSminmax(strategy1=2, bound_value1=math.factorial(5)**2, strategy2=3, bound_value2=math.factorial(5)**2)"
   ]
  },
  {
   "cell_type": "code",
   "execution_count": 16,
   "metadata": {},
   "outputs": [
    {
     "name": "stderr",
     "output_type": "stream",
     "text": [
      "100%|███████████████████████████████| 100/100 [07:21<00:00,  4.41s/it]"
     ]
    },
    {
     "name": "stdout",
     "output_type": "stream",
     "text": [
      "Games won = 7.0%\n",
      "Draws = 8.0%\n",
      "Average turns = 10.11\n"
     ]
    },
    {
     "name": "stderr",
     "output_type": "stream",
     "text": [
      "\n"
     ]
    }
   ],
   "source": [
    "# strategy 2 minmax with math.factorial(6)**2 VS strategy 3 minmax with math.factorial(5)**2\n",
    "winrate = minmaxVSminmax(strategy1=2, bound_value1=math.factorial(6)**2, strategy2=3, bound_value2=math.factorial(5)**2)"
   ]
  },
  {
   "cell_type": "markdown",
   "metadata": {},
   "source": [
    "The results shown above together with those regarding the minmaxplayers against the random, prove that the best player is the strategy 3 minmax with bound_value = math.factorial(5)**2.  \n",
    "We could further increase the number of possible combinations but it would make the minmax slower without improving significantly the results against the random or another minmax player. We consider this player as our champion."
   ]
  },
  {
   "cell_type": "markdown",
   "metadata": {},
   "source": [
    "### Random first move and first placement on the diagonal\n",
    "Let's evaluate the contribution of adding a randomness and forcing the player to place the first piece on the diagonal.\n",
    "The MinMax is deterministic, meaning that if we make it play against itself it will always play the same game. If it plays against the random and it's the first player, it will always choose the same piece for the opponent. If it's the second player the first placement will always be on the top left corner of the board. Making the first move random forces the minmax to explore different parts of the tree. In addition we always place the first piece on the diagonals of the board to speed up the game.\n",
    "Let's compare the minmax without randomness to the minmax with randomness."
   ]
  },
  {
   "cell_type": "code",
   "execution_count": 8,
   "metadata": {},
   "outputs": [
    {
     "name": "stderr",
     "output_type": "stream",
     "text": [
      "100%|███████████████████████████████| 100/100 [20:55<00:00, 12.56s/it]"
     ]
    },
    {
     "name": "stdout",
     "output_type": "stream",
     "text": [
      "Games won = 18.0%\n",
      "Draws = 34.0%\n",
      "Average turns = 14.29\n"
     ]
    },
    {
     "name": "stderr",
     "output_type": "stream",
     "text": [
      "\n"
     ]
    }
   ],
   "source": [
    "#test the minmax without randomness against the champion (same strategy and same bound value)\n",
    "#here games won refers to the game won by the minmax without randomness\n",
    "winrate = minmaxVSminmax(randomness1=False, randomness2=True)"
   ]
  },
  {
   "cell_type": "markdown",
   "metadata": {},
   "source": [
    "The results above are very interesting: we have 18% won games, 34% draws which means we have 48% of loss. As expected the minmax player WITH randomness and first placement on the diagonal wins more than twice the games with respect to the player without randomness.  \n",
    "In addition we can see that we have an average turns greater than 14 since we are still using players that are very close to optimal."
   ]
  },
  {
   "cell_type": "markdown",
   "metadata": {},
   "source": [
    "# Reinforcement Learning Player"
   ]
  },
  {
   "cell_type": "markdown",
   "metadata": {},
   "source": [
    "### Testing function"
   ]
  },
  {
   "cell_type": "code",
   "execution_count": 19,
   "metadata": {},
   "outputs": [],
   "source": [
    "def test_rl(q_table, n_games: int = 100):\n",
    "    '''tests how many times reinforcement learning wins against the random'''\n",
    "    games_won = 0\n",
    "    for i in tqdm(range(n_games)):\n",
    "        game=quarto.Quarto()\n",
    "        player1 = quarto.RLPlayer(game)\n",
    "        player1.set_q_table(q_table)\n",
    "        player2 = quarto.RandomPlayer(game)\n",
    "        if random.random() < 0.5:\n",
    "            game.set_players((player1, player2))\n",
    "            winner = game.run(verbose=False)\n",
    "            if winner==0: games_won+=1\n",
    "        else:\n",
    "            game.set_players((player2, player1))\n",
    "            winner = game.run(verbose=False)\n",
    "            if winner==1: games_won+=1\n",
    "    print(f'Reinforcement Learning player has won {games_won*100/n_games}% of the games against the Random.')\n",
    "    return games_won*100/n_games"
   ]
  },
  {
   "cell_type": "markdown",
   "metadata": {},
   "source": [
    "## Training the Reinforcement Learning agent against the Random Player\n",
    "The RL agent can be trained tuning different paremeters. We will perform a grid search on:\n",
    "- the learning rate alfa\n",
    "- the discount factor gamma \n",
    "- the reward coefficient  \n",
    "\n",
    "Each trained agent is then evaluated playing 100 games against the Random Player"
   ]
  },
  {
   "cell_type": "code",
   "execution_count": 3,
   "metadata": {},
   "outputs": [
    {
     "name": "stdout",
     "output_type": "stream",
     "text": [
      "Learning rate = 0.1\n",
      "Discount factor = 0.1\n",
      "Reward Coefficient = 1\n"
     ]
    },
    {
     "name": "stderr",
     "output_type": "stream",
     "text": [
      "100%|█████████████████████████████| 1000/1000 [03:04<00:00,  5.41it/s]\n"
     ]
    },
    {
     "name": "stdout",
     "output_type": "stream",
     "text": [
      "TRAINING COMPLETE\n",
      "Reinforcement Learning player has won 51.0% of the games against the Random.\n",
      "Learning rate = 0.1\n",
      "Discount factor = 0.1\n",
      "Reward Coefficient = 10\n"
     ]
    },
    {
     "name": "stderr",
     "output_type": "stream",
     "text": [
      "100%|█████████████████████████████| 1000/1000 [02:54<00:00,  5.73it/s]\n"
     ]
    },
    {
     "name": "stdout",
     "output_type": "stream",
     "text": [
      "TRAINING COMPLETE\n",
      "Reinforcement Learning player has won 54.0% of the games against the Random.\n",
      "Learning rate = 0.1\n",
      "Discount factor = 0.1\n",
      "Reward Coefficient = 100\n"
     ]
    },
    {
     "name": "stderr",
     "output_type": "stream",
     "text": [
      "100%|█████████████████████████████| 1000/1000 [02:51<00:00,  5.83it/s]\n"
     ]
    },
    {
     "name": "stdout",
     "output_type": "stream",
     "text": [
      "TRAINING COMPLETE\n",
      "Reinforcement Learning player has won 53.0% of the games against the Random.\n",
      "Learning rate = 0.1\n",
      "Discount factor = 1\n",
      "Reward Coefficient = 1\n"
     ]
    },
    {
     "name": "stderr",
     "output_type": "stream",
     "text": [
      "100%|█████████████████████████████| 1000/1000 [02:53<00:00,  5.76it/s]\n"
     ]
    },
    {
     "name": "stdout",
     "output_type": "stream",
     "text": [
      "TRAINING COMPLETE\n",
      "Reinforcement Learning player has won 42.0% of the games against the Random.\n",
      "Learning rate = 0.1\n",
      "Discount factor = 1\n",
      "Reward Coefficient = 10\n"
     ]
    },
    {
     "name": "stderr",
     "output_type": "stream",
     "text": [
      "100%|█████████████████████████████| 1000/1000 [02:55<00:00,  5.69it/s]\n"
     ]
    },
    {
     "name": "stdout",
     "output_type": "stream",
     "text": [
      "TRAINING COMPLETE\n",
      "Reinforcement Learning player has won 49.0% of the games against the Random.\n",
      "Learning rate = 0.1\n",
      "Discount factor = 1\n",
      "Reward Coefficient = 100\n"
     ]
    },
    {
     "name": "stderr",
     "output_type": "stream",
     "text": [
      "100%|█████████████████████████████| 1000/1000 [02:45<00:00,  6.04it/s]\n"
     ]
    },
    {
     "name": "stdout",
     "output_type": "stream",
     "text": [
      "TRAINING COMPLETE\n",
      "Reinforcement Learning player has won 55.0% of the games against the Random.\n",
      "Learning rate = 0.1\n",
      "Discount factor = 10\n",
      "Reward Coefficient = 1\n"
     ]
    },
    {
     "name": "stderr",
     "output_type": "stream",
     "text": [
      "100%|█████████████████████████████| 1000/1000 [02:38<00:00,  6.31it/s]\n"
     ]
    },
    {
     "name": "stdout",
     "output_type": "stream",
     "text": [
      "TRAINING COMPLETE\n",
      "Reinforcement Learning player has won 46.0% of the games against the Random.\n",
      "Learning rate = 0.1\n",
      "Discount factor = 10\n",
      "Reward Coefficient = 10\n"
     ]
    },
    {
     "name": "stderr",
     "output_type": "stream",
     "text": [
      "100%|█████████████████████████████| 1000/1000 [02:28<00:00,  6.72it/s]\n"
     ]
    },
    {
     "name": "stdout",
     "output_type": "stream",
     "text": [
      "TRAINING COMPLETE\n",
      "Reinforcement Learning player has won 49.0% of the games against the Random.\n",
      "Learning rate = 0.1\n",
      "Discount factor = 10\n",
      "Reward Coefficient = 100\n"
     ]
    },
    {
     "name": "stderr",
     "output_type": "stream",
     "text": [
      "100%|█████████████████████████████| 1000/1000 [03:12<00:00,  5.18it/s]\n"
     ]
    },
    {
     "name": "stdout",
     "output_type": "stream",
     "text": [
      "TRAINING COMPLETE\n",
      "Reinforcement Learning player has won 38.0% of the games against the Random.\n",
      "Learning rate = 1\n",
      "Discount factor = 0.1\n",
      "Reward Coefficient = 1\n"
     ]
    },
    {
     "name": "stderr",
     "output_type": "stream",
     "text": [
      "100%|█████████████████████████████| 1000/1000 [03:31<00:00,  4.72it/s]\n"
     ]
    },
    {
     "name": "stdout",
     "output_type": "stream",
     "text": [
      "TRAINING COMPLETE\n",
      "Reinforcement Learning player has won 51.0% of the games against the Random.\n",
      "Learning rate = 1\n",
      "Discount factor = 0.1\n",
      "Reward Coefficient = 10\n"
     ]
    },
    {
     "name": "stderr",
     "output_type": "stream",
     "text": [
      "100%|█████████████████████████████| 1000/1000 [03:34<00:00,  4.66it/s]\n"
     ]
    },
    {
     "name": "stdout",
     "output_type": "stream",
     "text": [
      "TRAINING COMPLETE\n",
      "Reinforcement Learning player has won 51.0% of the games against the Random.\n",
      "Learning rate = 1\n",
      "Discount factor = 0.1\n",
      "Reward Coefficient = 100\n"
     ]
    },
    {
     "name": "stderr",
     "output_type": "stream",
     "text": [
      "100%|█████████████████████████████| 1000/1000 [03:26<00:00,  4.84it/s]\n"
     ]
    },
    {
     "name": "stdout",
     "output_type": "stream",
     "text": [
      "TRAINING COMPLETE\n",
      "Reinforcement Learning player has won 56.0% of the games against the Random.\n",
      "Learning rate = 1\n",
      "Discount factor = 1\n",
      "Reward Coefficient = 1\n"
     ]
    },
    {
     "name": "stderr",
     "output_type": "stream",
     "text": [
      "100%|█████████████████████████████| 1000/1000 [03:21<00:00,  4.97it/s]\n"
     ]
    },
    {
     "name": "stdout",
     "output_type": "stream",
     "text": [
      "TRAINING COMPLETE\n",
      "Reinforcement Learning player has won 51.0% of the games against the Random.\n",
      "Learning rate = 1\n",
      "Discount factor = 1\n",
      "Reward Coefficient = 10\n"
     ]
    },
    {
     "name": "stderr",
     "output_type": "stream",
     "text": [
      "100%|█████████████████████████████| 1000/1000 [03:32<00:00,  4.70it/s]\n"
     ]
    },
    {
     "name": "stdout",
     "output_type": "stream",
     "text": [
      "TRAINING COMPLETE\n",
      "Reinforcement Learning player has won 52.0% of the games against the Random.\n",
      "Learning rate = 1\n",
      "Discount factor = 1\n",
      "Reward Coefficient = 100\n"
     ]
    },
    {
     "name": "stderr",
     "output_type": "stream",
     "text": [
      "100%|█████████████████████████████| 1000/1000 [03:29<00:00,  4.77it/s]\n"
     ]
    },
    {
     "name": "stdout",
     "output_type": "stream",
     "text": [
      "TRAINING COMPLETE\n",
      "Reinforcement Learning player has won 57.0% of the games against the Random.\n",
      "Learning rate = 1\n",
      "Discount factor = 10\n",
      "Reward Coefficient = 1\n"
     ]
    },
    {
     "name": "stderr",
     "output_type": "stream",
     "text": [
      "100%|█████████████████████████████| 1000/1000 [03:32<00:00,  4.71it/s]\n"
     ]
    },
    {
     "name": "stdout",
     "output_type": "stream",
     "text": [
      "TRAINING COMPLETE\n",
      "Reinforcement Learning player has won 48.0% of the games against the Random.\n",
      "Learning rate = 1\n",
      "Discount factor = 10\n",
      "Reward Coefficient = 10\n"
     ]
    },
    {
     "name": "stderr",
     "output_type": "stream",
     "text": [
      "100%|█████████████████████████████| 1000/1000 [03:30<00:00,  4.76it/s]\n"
     ]
    },
    {
     "name": "stdout",
     "output_type": "stream",
     "text": [
      "TRAINING COMPLETE\n",
      "Reinforcement Learning player has won 57.0% of the games against the Random.\n",
      "Learning rate = 1\n",
      "Discount factor = 10\n",
      "Reward Coefficient = 100\n"
     ]
    },
    {
     "name": "stderr",
     "output_type": "stream",
     "text": [
      "100%|█████████████████████████████| 1000/1000 [03:28<00:00,  4.79it/s]\n"
     ]
    },
    {
     "name": "stdout",
     "output_type": "stream",
     "text": [
      "TRAINING COMPLETE\n",
      "Reinforcement Learning player has won 47.0% of the games against the Random.\n",
      "Learning rate = 10\n",
      "Discount factor = 0.1\n",
      "Reward Coefficient = 1\n"
     ]
    },
    {
     "name": "stderr",
     "output_type": "stream",
     "text": [
      "100%|█████████████████████████████| 1000/1000 [04:04<00:00,  4.10it/s]\n"
     ]
    },
    {
     "name": "stdout",
     "output_type": "stream",
     "text": [
      "TRAINING COMPLETE\n",
      "Reinforcement Learning player has won 48.0% of the games against the Random.\n",
      "Learning rate = 10\n",
      "Discount factor = 0.1\n",
      "Reward Coefficient = 10\n"
     ]
    },
    {
     "name": "stderr",
     "output_type": "stream",
     "text": [
      "100%|█████████████████████████████| 1000/1000 [02:59<00:00,  5.56it/s]\n"
     ]
    },
    {
     "name": "stdout",
     "output_type": "stream",
     "text": [
      "TRAINING COMPLETE\n",
      "Reinforcement Learning player has won 53.0% of the games against the Random.\n",
      "Learning rate = 10\n",
      "Discount factor = 0.1\n",
      "Reward Coefficient = 100\n"
     ]
    },
    {
     "name": "stderr",
     "output_type": "stream",
     "text": [
      "100%|█████████████████████████████| 1000/1000 [03:00<00:00,  5.55it/s]\n"
     ]
    },
    {
     "name": "stdout",
     "output_type": "stream",
     "text": [
      "TRAINING COMPLETE\n",
      "Reinforcement Learning player has won 57.0% of the games against the Random.\n",
      "Learning rate = 10\n",
      "Discount factor = 1\n",
      "Reward Coefficient = 1\n"
     ]
    },
    {
     "name": "stderr",
     "output_type": "stream",
     "text": [
      "100%|█████████████████████████████| 1000/1000 [02:59<00:00,  5.56it/s]\n"
     ]
    },
    {
     "name": "stdout",
     "output_type": "stream",
     "text": [
      "TRAINING COMPLETE\n",
      "Reinforcement Learning player has won 50.0% of the games against the Random.\n",
      "Learning rate = 10\n",
      "Discount factor = 1\n",
      "Reward Coefficient = 10\n"
     ]
    },
    {
     "name": "stderr",
     "output_type": "stream",
     "text": [
      "100%|█████████████████████████████| 1000/1000 [02:58<00:00,  5.60it/s]\n"
     ]
    },
    {
     "name": "stdout",
     "output_type": "stream",
     "text": [
      "TRAINING COMPLETE\n",
      "Reinforcement Learning player has won 44.0% of the games against the Random.\n",
      "Learning rate = 10\n",
      "Discount factor = 1\n",
      "Reward Coefficient = 100\n"
     ]
    },
    {
     "name": "stderr",
     "output_type": "stream",
     "text": [
      "100%|█████████████████████████████| 1000/1000 [02:54<00:00,  5.72it/s]\n"
     ]
    },
    {
     "name": "stdout",
     "output_type": "stream",
     "text": [
      "TRAINING COMPLETE\n",
      "Reinforcement Learning player has won 42.0% of the games against the Random.\n",
      "Learning rate = 10\n",
      "Discount factor = 10\n",
      "Reward Coefficient = 1\n"
     ]
    },
    {
     "name": "stderr",
     "output_type": "stream",
     "text": [
      "100%|█████████████████████████████| 1000/1000 [02:55<00:00,  5.69it/s]\n"
     ]
    },
    {
     "name": "stdout",
     "output_type": "stream",
     "text": [
      "TRAINING COMPLETE\n",
      "Reinforcement Learning player has won 55.0% of the games against the Random.\n",
      "Learning rate = 10\n",
      "Discount factor = 10\n",
      "Reward Coefficient = 10\n"
     ]
    },
    {
     "name": "stderr",
     "output_type": "stream",
     "text": [
      "100%|█████████████████████████████| 1000/1000 [02:57<00:00,  5.63it/s]\n"
     ]
    },
    {
     "name": "stdout",
     "output_type": "stream",
     "text": [
      "TRAINING COMPLETE\n",
      "Reinforcement Learning player has won 54.0% of the games against the Random.\n",
      "Learning rate = 10\n",
      "Discount factor = 10\n",
      "Reward Coefficient = 100\n"
     ]
    },
    {
     "name": "stderr",
     "output_type": "stream",
     "text": [
      "100%|█████████████████████████████| 1000/1000 [03:06<00:00,  5.35it/s]\n"
     ]
    },
    {
     "name": "stdout",
     "output_type": "stream",
     "text": [
      "TRAINING COMPLETE\n",
      "Reinforcement Learning player has won 54.0% of the games against the Random.\n",
      "Learning rate = 100\n",
      "Discount factor = 0.1\n",
      "Reward Coefficient = 1\n"
     ]
    },
    {
     "name": "stderr",
     "output_type": "stream",
     "text": [
      "100%|█████████████████████████████| 1000/1000 [02:56<00:00,  5.68it/s]\n"
     ]
    },
    {
     "name": "stdout",
     "output_type": "stream",
     "text": [
      "TRAINING COMPLETE\n",
      "Reinforcement Learning player has won 52.0% of the games against the Random.\n",
      "Learning rate = 100\n",
      "Discount factor = 0.1\n",
      "Reward Coefficient = 10\n"
     ]
    },
    {
     "name": "stderr",
     "output_type": "stream",
     "text": [
      "100%|█████████████████████████████| 1000/1000 [02:56<00:00,  5.65it/s]\n"
     ]
    },
    {
     "name": "stdout",
     "output_type": "stream",
     "text": [
      "TRAINING COMPLETE\n",
      "Reinforcement Learning player has won 45.0% of the games against the Random.\n",
      "Learning rate = 100\n",
      "Discount factor = 0.1\n",
      "Reward Coefficient = 100\n"
     ]
    },
    {
     "name": "stderr",
     "output_type": "stream",
     "text": [
      "100%|█████████████████████████████| 1000/1000 [03:09<00:00,  5.29it/s]\n"
     ]
    },
    {
     "name": "stdout",
     "output_type": "stream",
     "text": [
      "TRAINING COMPLETE\n",
      "Reinforcement Learning player has won 47.0% of the games against the Random.\n",
      "Learning rate = 100\n",
      "Discount factor = 1\n",
      "Reward Coefficient = 1\n"
     ]
    },
    {
     "name": "stderr",
     "output_type": "stream",
     "text": [
      "100%|█████████████████████████████| 1000/1000 [03:21<00:00,  4.95it/s]\n"
     ]
    },
    {
     "name": "stdout",
     "output_type": "stream",
     "text": [
      "TRAINING COMPLETE\n",
      "Reinforcement Learning player has won 39.0% of the games against the Random.\n",
      "Learning rate = 100\n",
      "Discount factor = 1\n",
      "Reward Coefficient = 10\n"
     ]
    },
    {
     "name": "stderr",
     "output_type": "stream",
     "text": [
      "100%|█████████████████████████████| 1000/1000 [02:47<00:00,  5.98it/s]\n"
     ]
    },
    {
     "name": "stdout",
     "output_type": "stream",
     "text": [
      "TRAINING COMPLETE\n",
      "Reinforcement Learning player has won 50.0% of the games against the Random.\n",
      "Learning rate = 100\n",
      "Discount factor = 1\n",
      "Reward Coefficient = 100\n"
     ]
    },
    {
     "name": "stderr",
     "output_type": "stream",
     "text": [
      "100%|█████████████████████████████| 1000/1000 [02:14<00:00,  7.42it/s]\n"
     ]
    },
    {
     "name": "stdout",
     "output_type": "stream",
     "text": [
      "TRAINING COMPLETE\n",
      "Reinforcement Learning player has won 47.0% of the games against the Random.\n",
      "Learning rate = 100\n",
      "Discount factor = 10\n",
      "Reward Coefficient = 1\n"
     ]
    },
    {
     "name": "stderr",
     "output_type": "stream",
     "text": [
      "100%|█████████████████████████████| 1000/1000 [02:26<00:00,  6.83it/s]\n"
     ]
    },
    {
     "name": "stdout",
     "output_type": "stream",
     "text": [
      "TRAINING COMPLETE\n",
      "Reinforcement Learning player has won 51.0% of the games against the Random.\n",
      "Learning rate = 100\n",
      "Discount factor = 10\n",
      "Reward Coefficient = 10\n"
     ]
    },
    {
     "name": "stderr",
     "output_type": "stream",
     "text": [
      "100%|█████████████████████████████| 1000/1000 [03:03<00:00,  5.46it/s]\n"
     ]
    },
    {
     "name": "stdout",
     "output_type": "stream",
     "text": [
      "TRAINING COMPLETE\n",
      "Reinforcement Learning player has won 53.0% of the games against the Random.\n",
      "Learning rate = 100\n",
      "Discount factor = 10\n",
      "Reward Coefficient = 100\n"
     ]
    },
    {
     "name": "stderr",
     "output_type": "stream",
     "text": [
      "100%|█████████████████████████████| 1000/1000 [03:05<00:00,  5.39it/s]\n"
     ]
    },
    {
     "name": "stdout",
     "output_type": "stream",
     "text": [
      "TRAINING COMPLETE\n",
      "Reinforcement Learning player has won 38.0% of the games against the Random.\n"
     ]
    },
    {
     "data": {
      "image/png": "[encoded data removed]",
      "text/plain": [
       "<Figure size 640x480 with 1 Axes>"
      ]
     },
     "metadata": {},
     "output_type": "display_data"
    }
   ],
   "source": [
    "alfa = [0.1, 1, 10, 100]\n",
    "gamma = [0.1, 1, 10]\n",
    "reward_coefficient = [1, 10, 100]\n",
    "results = {}\n",
    "\n",
    "for a in alfa:\n",
    "    for g in gamma:\n",
    "        for rc in reward_coefficient:\n",
    "            print(f'Learning rate = {a}')\n",
    "            print(f'Discount factor = {g}')\n",
    "            print(f'Reward Coefficient = {rc}')\n",
    "            game = quarto.Quarto()\n",
    "            game.reset() #just to be sure\n",
    "            rl = quarto.RLPlayer(game, alfa=a, gamma=g, reward_coefficient=rc)\n",
    "            opponent = quarto.RandomPlayer(game)\n",
    "            q_table = rl.reinforcement_learning(opponent, epochs=1000)\n",
    "            res = test_rl(q_table)\n",
    "            results.update({tuple((a, g, rc)) : float(res)})\n",
    "            #comment the plt.show and plt.save in player for this grid search"
   ]
  },
  {
   "cell_type": "code",
   "execution_count": 7,
   "metadata": {},
   "outputs": [
    {
     "name": "stdout",
     "output_type": "stream",
     "text": [
      "[((1, 1, 100), 57.0), ((1, 10, 10), 57.0), ((10, 0.1, 100), 57.0), ((1, 0.1, 100), 56.0), ((0.1, 1, 100), 55.0), ((10, 10, 1), 55.0), ((0.1, 0.1, 10), 54.0), ((10, 10, 10), 54.0), ((10, 10, 100), 54.0), ((0.1, 0.1, 100), 53.0), ((10, 0.1, 10), 53.0), ((100, 10, 10), 53.0), ((1, 1, 10), 52.0), ((100, 0.1, 1), 52.0), ((0.1, 0.1, 1), 51.0), ((1, 0.1, 1), 51.0), ((1, 0.1, 10), 51.0), ((1, 1, 1), 51.0), ((100, 10, 1), 51.0), ((10, 1, 1), 50.0), ((100, 1, 10), 50.0), ((0.1, 1, 10), 49.0), ((0.1, 10, 10), 49.0), ((1, 10, 1), 48.0), ((10, 0.1, 1), 48.0), ((1, 10, 100), 47.0), ((100, 0.1, 100), 47.0), ((100, 1, 100), 47.0), ((0.1, 10, 1), 46.0), ((100, 0.1, 10), 45.0), ((10, 1, 10), 44.0), ((0.1, 1, 1), 42.0), ((10, 1, 100), 42.0), ((100, 1, 1), 39.0), ((0.1, 10, 100), 38.0), ((100, 10, 100), 38.0)]\n",
      "best learning rate is: 1\n",
      "best discount factor is: 1\n",
      "best reward coefficient is: 100\n"
     ]
    }
   ],
   "source": [
    "print(sorted(results.items(), key=lambda x: x[1], reverse=True))\n",
    "best_lr, best_df, best_rc = max(results, key= results.get)\n",
    "print(f'best learning rate is: {best_lr}')\n",
    "print(f'best discount factor is: {best_df}')\n",
    "print(f'best reward coefficient is: {best_rc}')"
   ]
  },
  {
   "cell_type": "markdown",
   "metadata": {},
   "source": [
    "## Train the agent with the best configuration found\n",
    "The plot and the results shown above prove that unfortunately tuning the parameters does not bring any significant improvement to the performances. Even the best trained agents are barely better than the random player. The reinforcement learning proves to be ineffective for this kind of problem.  \n",
    "Still, now that we have performed a grid search that has given us the best possible results for the reinforcement learning we can try to train for 3000 epochs using that configuration.\n",
    "The best results were found with:\n",
    "- learning rate = 1\n",
    "- discount factor = 1\n",
    "- reward coefficient = 100"
   ]
  },
  {
   "cell_type": "code",
   "execution_count": 13,
   "metadata": {},
   "outputs": [
    {
     "name": "stderr",
     "output_type": "stream",
     "text": [
      "100%|█████████████████████████████| 2000/2000 [07:31<00:00,  4.43it/s]\n"
     ]
    },
    {
     "name": "stdout",
     "output_type": "stream",
     "text": [
      "TRAINING COMPLETE\n"
     ]
    },
    {
     "data": {
      "image/png": "[encoded data removed]",
      "text/plain": [
       "<Figure size 640x480 with 1 Axes>"
      ]
     },
     "metadata": {},
     "output_type": "display_data"
    }
   ],
   "source": [
    "game = quarto.Quarto()\n",
    "rl = quarto.RLPlayer(game, alfa=1, gamma=1, reward_coefficient=100)\n",
    "opponent = quarto.RandomPlayer(game)\n",
    "final_q_table = rl.reinforcement_learning(opponent, epochs=2000)\n",
    "#now uncomment plt.show in player"
   ]
  },
  {
   "cell_type": "markdown",
   "metadata": {},
   "source": [
    "The plot right above and shows us that training for more epochs doesn't bring any relevant improvement. This result unfortunately was expected: even the plot shown after the grid search proves that the performance converges after around 400 epochs and doesn't improve going further with the games."
   ]
  },
  {
   "cell_type": "markdown",
   "metadata": {},
   "source": [
    "## Test the agent"
   ]
  },
  {
   "cell_type": "markdown",
   "metadata": {},
   "source": [
    "### Play one game"
   ]
  },
  {
   "cell_type": "markdown",
   "metadata": {},
   "source": [
    "In the following blocks we will show the code to explicitly play one game in two cases. The first is we have run the training on the rl agent and we use directly the trained agent. The second option is to have the q_table ready to be loaded in a new rl player.  \n",
    "Please keep in mind that loading the table takes a few seconds but after the first load all the future games will be very fast. "
   ]
  },
  {
   "cell_type": "code",
   "execution_count": 9,
   "metadata": {},
   "outputs": [
    {
     "name": "stderr",
     "output_type": "stream",
     "text": [
      "WARNING:root:main: Winner: player 0\n"
     ]
    },
    {
     "name": "stdout",
     "output_type": "stream",
     "text": [
      "\n",
      " -------------------\n",
      "| -1 | -1 | -1 | -1 |\n",
      " -------------------\n",
      "| -1 | -1 | -1 | -1 |\n",
      " -------------------\n",
      "| -1 | -1 | -1 | -1 |\n",
      " -------------------\n",
      "| -1 | -1 | -1 | -1 |\n",
      " -------------------\n",
      "\n",
      "Selected piece: -1\n",
      "\n",
      "\n",
      " -------------------\n",
      "| -1 | -1 | -1 | -1 |\n",
      " -------------------\n",
      "| -1 | -1 | -1 | -1 |\n",
      " -------------------\n",
      "| -1 | -1 | -1 | -1 |\n",
      " -------------------\n",
      "| -1 | -1 | -1 | -1 |\n",
      " -------------------\n",
      "\n",
      "Selected piece: 4\n",
      "\n",
      "\n",
      " -------------------\n",
      "| -1 |  4 | -1 | -1 |\n",
      " -------------------\n",
      "| -1 | -1 | -1 | -1 |\n",
      " -------------------\n",
      "| -1 | -1 | -1 | -1 |\n",
      " -------------------\n",
      "| -1 | -1 | -1 | -1 |\n",
      " -------------------\n",
      "\n",
      "Selected piece: 4\n",
      "\n",
      "\n",
      " -------------------\n",
      "| -1 |  4 | -1 | -1 |\n",
      " -------------------\n",
      "| -1 | -1 | -1 | -1 |\n",
      " -------------------\n",
      "| -1 | -1 | -1 | -1 |\n",
      " -------------------\n",
      "| -1 | -1 | -1 | -1 |\n",
      " -------------------\n",
      "\n",
      "Selected piece: 1\n",
      "\n",
      "\n",
      " -------------------\n",
      "| -1 |  4 | -1 | -1 |\n",
      " -------------------\n",
      "| -1 | -1 | -1 |  1 |\n",
      " -------------------\n",
      "| -1 | -1 | -1 | -1 |\n",
      " -------------------\n",
      "| -1 | -1 | -1 | -1 |\n",
      " -------------------\n",
      "\n",
      "Selected piece: 1\n",
      "\n",
      "\n",
      " -------------------\n",
      "| -1 |  4 | -1 | -1 |\n",
      " -------------------\n",
      "| -1 | -1 | -1 |  1 |\n",
      " -------------------\n",
      "| -1 | -1 | -1 | -1 |\n",
      " -------------------\n",
      "| -1 | -1 | -1 | -1 |\n",
      " -------------------\n",
      "\n",
      "Selected piece: 6\n",
      "\n",
      "\n",
      " -------------------\n",
      "| -1 |  4 | -1 | -1 |\n",
      " -------------------\n",
      "|  6 | -1 | -1 |  1 |\n",
      " -------------------\n",
      "| -1 | -1 | -1 | -1 |\n",
      " -------------------\n",
      "| -1 | -1 | -1 | -1 |\n",
      " -------------------\n",
      "\n",
      "Selected piece: 6\n",
      "\n",
      "\n",
      " -------------------\n",
      "| -1 |  4 | -1 | -1 |\n",
      " -------------------\n",
      "|  6 | -1 | -1 |  1 |\n",
      " -------------------\n",
      "| -1 | -1 | -1 | -1 |\n",
      " -------------------\n",
      "| -1 | -1 | -1 | -1 |\n",
      " -------------------\n",
      "\n",
      "Selected piece: 14\n",
      "\n",
      "\n",
      " -------------------\n",
      "| -1 |  4 | -1 | -1 |\n",
      " -------------------\n",
      "|  6 | -1 | -1 |  1 |\n",
      " -------------------\n",
      "| -1 | -1 | -1 | 14 |\n",
      " -------------------\n",
      "| -1 | -1 | -1 | -1 |\n",
      " -------------------\n",
      "\n",
      "Selected piece: 14\n",
      "\n",
      "\n",
      " -------------------\n",
      "| -1 |  4 | -1 | -1 |\n",
      " -------------------\n",
      "|  6 | -1 | -1 |  1 |\n",
      " -------------------\n",
      "| -1 | -1 | -1 | 14 |\n",
      " -------------------\n",
      "| -1 | -1 | -1 | -1 |\n",
      " -------------------\n",
      "\n",
      "Selected piece: 11\n",
      "\n",
      "\n",
      " -------------------\n",
      "| -1 |  4 | -1 | -1 |\n",
      " -------------------\n",
      "|  6 | -1 | -1 |  1 |\n",
      " -------------------\n",
      "| -1 | -1 | -1 | 14 |\n",
      " -------------------\n",
      "| 11 | -1 | -1 | -1 |\n",
      " -------------------\n",
      "\n",
      "Selected piece: 11\n",
      "\n",
      "\n",
      " -------------------\n",
      "| -1 |  4 | -1 | -1 |\n",
      " -------------------\n",
      "|  6 | -1 | -1 |  1 |\n",
      " -------------------\n",
      "| -1 | -1 | -1 | 14 |\n",
      " -------------------\n",
      "| 11 | -1 | -1 | -1 |\n",
      " -------------------\n",
      "\n",
      "Selected piece: 5\n",
      "\n",
      "\n",
      " -------------------\n",
      "| -1 |  4 | -1 | -1 |\n",
      " -------------------\n",
      "|  6 |  5 | -1 |  1 |\n",
      " -------------------\n",
      "| -1 | -1 | -1 | 14 |\n",
      " -------------------\n",
      "| 11 | -1 | -1 | -1 |\n",
      " -------------------\n",
      "\n",
      "Selected piece: 5\n",
      "\n",
      "\n",
      " -------------------\n",
      "| -1 |  4 | -1 | -1 |\n",
      " -------------------\n",
      "|  6 |  5 | -1 |  1 |\n",
      " -------------------\n",
      "| -1 | -1 | -1 | 14 |\n",
      " -------------------\n",
      "| 11 | -1 | -1 | -1 |\n",
      " -------------------\n",
      "\n",
      "Selected piece: 3\n",
      "\n",
      "\n",
      " -------------------\n",
      "| -1 |  4 | -1 | -1 |\n",
      " -------------------\n",
      "|  6 |  5 | -1 |  1 |\n",
      " -------------------\n",
      "| -1 | -1 | -1 | 14 |\n",
      " -------------------\n",
      "| 11 |  3 | -1 | -1 |\n",
      " -------------------\n",
      "\n",
      "Selected piece: 3\n",
      "\n",
      "\n",
      " -------------------\n",
      "| -1 |  4 | -1 | -1 |\n",
      " -------------------\n",
      "|  6 |  5 | -1 |  1 |\n",
      " -------------------\n",
      "| -1 | -1 | -1 | 14 |\n",
      " -------------------\n",
      "| 11 |  3 | -1 | -1 |\n",
      " -------------------\n",
      "\n",
      "Selected piece: 15\n",
      "\n",
      "\n",
      " -------------------\n",
      "| -1 |  4 | -1 | -1 |\n",
      " -------------------\n",
      "|  6 |  5 | 15 |  1 |\n",
      " -------------------\n",
      "| -1 | -1 | -1 | 14 |\n",
      " -------------------\n",
      "| 11 |  3 | -1 | -1 |\n",
      " -------------------\n",
      "\n",
      "Selected piece: 15\n",
      "\n",
      "\n",
      " -------------------\n",
      "| -1 |  4 | -1 | -1 |\n",
      " -------------------\n",
      "|  6 |  5 | 15 |  1 |\n",
      " -------------------\n",
      "| -1 | -1 | -1 | 14 |\n",
      " -------------------\n",
      "| 11 |  3 | -1 | -1 |\n",
      " -------------------\n",
      "\n",
      "Selected piece: 9\n",
      "\n",
      "\n",
      " -------------------\n",
      "| -1 |  4 | -1 | -1 |\n",
      " -------------------\n",
      "|  6 |  5 | 15 |  1 |\n",
      " -------------------\n",
      "| -1 |  9 | -1 | 14 |\n",
      " -------------------\n",
      "| 11 |  3 | -1 | -1 |\n",
      " -------------------\n",
      "\n",
      "Selected piece: 9\n",
      "\n",
      "\n",
      " -------------------\n",
      "| -1 |  4 | -1 | -1 |\n",
      " -------------------\n",
      "|  6 |  5 | 15 |  1 |\n",
      " -------------------\n",
      "| -1 |  9 | -1 | 14 |\n",
      " -------------------\n",
      "| 11 |  3 | -1 | -1 |\n",
      " -------------------\n",
      "\n",
      "Selected piece: 2\n",
      "\n",
      "\n",
      " -------------------\n",
      "|  2 |  4 | -1 | -1 |\n",
      " -------------------\n",
      "|  6 |  5 | 15 |  1 |\n",
      " -------------------\n",
      "| -1 |  9 | -1 | 14 |\n",
      " -------------------\n",
      "| 11 |  3 | -1 | -1 |\n",
      " -------------------\n",
      "\n",
      "Selected piece: 2\n",
      "\n",
      "\n",
      " -------------------\n",
      "|  2 |  4 | -1 | -1 |\n",
      " -------------------\n",
      "|  6 |  5 | 15 |  1 |\n",
      " -------------------\n",
      "| -1 |  9 | -1 | 14 |\n",
      " -------------------\n",
      "| 11 |  3 | -1 | -1 |\n",
      " -------------------\n",
      "\n",
      "Selected piece: 7\n",
      "\n",
      "\n",
      " -------------------\n",
      "|  2 |  4 | -1 | -1 |\n",
      " -------------------\n",
      "|  6 |  5 | 15 |  1 |\n",
      " -------------------\n",
      "| -1 |  9 | -1 | 14 |\n",
      " -------------------\n",
      "| 11 |  3 | -1 |  7 |\n",
      " -------------------\n",
      "\n",
      "Selected piece: 7\n",
      "\n",
      "\n",
      " -------------------\n",
      "|  2 |  4 | -1 | -1 |\n",
      " -------------------\n",
      "|  6 |  5 | 15 |  1 |\n",
      " -------------------\n",
      "| -1 |  9 | -1 | 14 |\n",
      " -------------------\n",
      "| 11 |  3 | -1 |  7 |\n",
      " -------------------\n",
      "\n",
      "Selected piece: 10\n",
      "\n",
      "\n",
      " -------------------\n",
      "|  2 |  4 | -1 | 10 |\n",
      " -------------------\n",
      "|  6 |  5 | 15 |  1 |\n",
      " -------------------\n",
      "| -1 |  9 | -1 | 14 |\n",
      " -------------------\n",
      "| 11 |  3 | -1 |  7 |\n",
      " -------------------\n",
      "\n",
      "Selected piece: 10\n",
      "\n"
     ]
    }
   ],
   "source": [
    "#if we have run the previous cell we can just use the trained rl agent\n",
    "game = quarto.Quarto()\n",
    "rl.set_play_mode()\n",
    "game.set_players((rl, quarto.RandomPlayer(game)))\n",
    "winner = game.run()\n",
    "logging.warning(f\"main: Winner: player {winner}\") "
   ]
  },
  {
   "cell_type": "code",
   "execution_count": 4,
   "metadata": {},
   "outputs": [
    {
     "name": "stderr",
     "output_type": "stream",
     "text": [
      "WARNING:root:main: Winner: player 0\n"
     ]
    },
    {
     "name": "stdout",
     "output_type": "stream",
     "text": [
      "\n",
      " -------------------\n",
      "| -1 | -1 | -1 | -1 |\n",
      " -------------------\n",
      "| -1 | -1 | -1 | -1 |\n",
      " -------------------\n",
      "| -1 | -1 | -1 | -1 |\n",
      " -------------------\n",
      "| -1 | -1 | -1 | -1 |\n",
      " -------------------\n",
      "\n",
      "Selected piece: -1\n",
      "\n",
      "\n",
      " -------------------\n",
      "| -1 | -1 | -1 | -1 |\n",
      " -------------------\n",
      "| -1 | -1 | -1 | -1 |\n",
      " -------------------\n",
      "| -1 | -1 | -1 | -1 |\n",
      " -------------------\n",
      "| -1 | -1 | -1 | -1 |\n",
      " -------------------\n",
      "\n",
      "Selected piece: 12\n",
      "\n",
      "\n",
      " -------------------\n",
      "| -1 | -1 | -1 | -1 |\n",
      " -------------------\n",
      "| -1 | -1 | -1 | -1 |\n",
      " -------------------\n",
      "| -1 | -1 | -1 | -1 |\n",
      " -------------------\n",
      "| -1 | -1 | -1 | 12 |\n",
      " -------------------\n",
      "\n",
      "Selected piece: 12\n",
      "\n",
      "\n",
      " -------------------\n",
      "| -1 | -1 | -1 | -1 |\n",
      " -------------------\n",
      "| -1 | -1 | -1 | -1 |\n",
      " -------------------\n",
      "| -1 | -1 | -1 | -1 |\n",
      " -------------------\n",
      "| -1 | -1 | -1 | 12 |\n",
      " -------------------\n",
      "\n",
      "Selected piece: 10\n",
      "\n",
      "\n",
      " -------------------\n",
      "| -1 | -1 | 10 | -1 |\n",
      " -------------------\n",
      "| -1 | -1 | -1 | -1 |\n",
      " -------------------\n",
      "| -1 | -1 | -1 | -1 |\n",
      " -------------------\n",
      "| -1 | -1 | -1 | 12 |\n",
      " -------------------\n",
      "\n",
      "Selected piece: 10\n",
      "\n",
      "\n",
      " -------------------\n",
      "| -1 | -1 | 10 | -1 |\n",
      " -------------------\n",
      "| -1 | -1 | -1 | -1 |\n",
      " -------------------\n",
      "| -1 | -1 | -1 | -1 |\n",
      " -------------------\n",
      "| -1 | -1 | -1 | 12 |\n",
      " -------------------\n",
      "\n",
      "Selected piece: 11\n",
      "\n",
      "\n",
      " -------------------\n",
      "| -1 | -1 | 10 | -1 |\n",
      " -------------------\n",
      "| -1 | -1 | -1 | 11 |\n",
      " -------------------\n",
      "| -1 | -1 | -1 | -1 |\n",
      " -------------------\n",
      "| -1 | -1 | -1 | 12 |\n",
      " -------------------\n",
      "\n",
      "Selected piece: 11\n",
      "\n",
      "\n",
      " -------------------\n",
      "| -1 | -1 | 10 | -1 |\n",
      " -------------------\n",
      "| -1 | -1 | -1 | 11 |\n",
      " -------------------\n",
      "| -1 | -1 | -1 | -1 |\n",
      " -------------------\n",
      "| -1 | -1 | -1 | 12 |\n",
      " -------------------\n",
      "\n",
      "Selected piece: 8\n",
      "\n",
      "\n",
      " -------------------\n",
      "| -1 | -1 | 10 | -1 |\n",
      " -------------------\n",
      "| -1 | -1 | -1 | 11 |\n",
      " -------------------\n",
      "| -1 | -1 | -1 | -1 |\n",
      " -------------------\n",
      "| -1 | -1 |  8 | 12 |\n",
      " -------------------\n",
      "\n",
      "Selected piece: 8\n",
      "\n",
      "\n",
      " -------------------\n",
      "| -1 | -1 | 10 | -1 |\n",
      " -------------------\n",
      "| -1 | -1 | -1 | 11 |\n",
      " -------------------\n",
      "| -1 | -1 | -1 | -1 |\n",
      " -------------------\n",
      "| -1 | -1 |  8 | 12 |\n",
      " -------------------\n",
      "\n",
      "Selected piece: 15\n",
      "\n",
      "\n",
      " -------------------\n",
      "| -1 | -1 | 10 | 15 |\n",
      " -------------------\n",
      "| -1 | -1 | -1 | 11 |\n",
      " -------------------\n",
      "| -1 | -1 | -1 | -1 |\n",
      " -------------------\n",
      "| -1 | -1 |  8 | 12 |\n",
      " -------------------\n",
      "\n",
      "Selected piece: 15\n",
      "\n",
      "\n",
      " -------------------\n",
      "| -1 | -1 | 10 | 15 |\n",
      " -------------------\n",
      "| -1 | -1 | -1 | 11 |\n",
      " -------------------\n",
      "| -1 | -1 | -1 | -1 |\n",
      " -------------------\n",
      "| -1 | -1 |  8 | 12 |\n",
      " -------------------\n",
      "\n",
      "Selected piece: 2\n",
      "\n",
      "\n",
      " -------------------\n",
      "| -1 | -1 | 10 | 15 |\n",
      " -------------------\n",
      "| -1 | -1 | -1 | 11 |\n",
      " -------------------\n",
      "| -1 | -1 |  2 | -1 |\n",
      " -------------------\n",
      "| -1 | -1 |  8 | 12 |\n",
      " -------------------\n",
      "\n",
      "Selected piece: 2\n",
      "\n",
      "\n",
      " -------------------\n",
      "| -1 | -1 | 10 | 15 |\n",
      " -------------------\n",
      "| -1 | -1 | -1 | 11 |\n",
      " -------------------\n",
      "| -1 | -1 |  2 | -1 |\n",
      " -------------------\n",
      "| -1 | -1 |  8 | 12 |\n",
      " -------------------\n",
      "\n",
      "Selected piece: 1\n",
      "\n",
      "\n",
      " -------------------\n",
      "|  1 | -1 | 10 | 15 |\n",
      " -------------------\n",
      "| -1 | -1 | -1 | 11 |\n",
      " -------------------\n",
      "| -1 | -1 |  2 | -1 |\n",
      " -------------------\n",
      "| -1 | -1 |  8 | 12 |\n",
      " -------------------\n",
      "\n",
      "Selected piece: 1\n",
      "\n",
      "\n",
      " -------------------\n",
      "|  1 | -1 | 10 | 15 |\n",
      " -------------------\n",
      "| -1 | -1 | -1 | 11 |\n",
      " -------------------\n",
      "| -1 | -1 |  2 | -1 |\n",
      " -------------------\n",
      "| -1 | -1 |  8 | 12 |\n",
      " -------------------\n",
      "\n",
      "Selected piece: 14\n",
      "\n",
      "\n",
      " -------------------\n",
      "|  1 | -1 | 10 | 15 |\n",
      " -------------------\n",
      "| -1 | -1 | -1 | 11 |\n",
      " -------------------\n",
      "| -1 | -1 |  2 | 14 |\n",
      " -------------------\n",
      "| -1 | -1 |  8 | 12 |\n",
      " -------------------\n",
      "\n",
      "Selected piece: 14\n",
      "\n"
     ]
    }
   ],
   "source": [
    "#if we have the saved q_table we can load and use that\n",
    "game = quarto.Quarto()\n",
    "rl_player = quarto.RLPlayer(game)\n",
    "rl_player.load_q_table('q_table_epochs2000_alfa1_gamma1_rc100')\n",
    "rl_player.set_play_mode()\n",
    "game.set_players((rl_player, quarto.RandomPlayer(game)))\n",
    "winner = game.run()\n",
    "logging.warning(f\"main: Winner: player {winner}\")"
   ]
  },
  {
   "cell_type": "markdown",
   "metadata": {},
   "source": [
    "### Test the final RL Player against the random\n",
    "Let's perform a final test using the agent trained for 2000 epochs"
   ]
  },
  {
   "cell_type": "code",
   "execution_count": 6,
   "metadata": {},
   "outputs": [],
   "source": [
    "data = open('q_table_epochs2000_alfa1_gamma1_rc100', 'rb')\n",
    "final_q_table = pickle.load(data)\n",
    "data.close()"
   ]
  },
  {
   "cell_type": "code",
   "execution_count": 42,
   "metadata": {},
   "outputs": [
    {
     "name": "stdout",
     "output_type": "stream",
     "text": [
      "Reinforcement Learning player has won 59.0% of the games against the Random.\n"
     ]
    },
    {
     "data": {
      "text/plain": [
       "59.0"
      ]
     },
     "execution_count": 42,
     "metadata": {},
     "output_type": "execute_result"
    }
   ],
   "source": [
    "test_rl(final_q_table)"
   ]
  }
 ],
 "metadata": {
  "kernelspec": {
   "display_name": "Python 3.9.13 64-bit (microsoft store)",
   "language": "python",
   "name": "python3"
  },
  "language_info": {
   "codemirror_mode": {
    "name": "ipython",
    "version": 3
   },
   "file_extension": ".py",
   "mimetype": "text/x-python",
   "name": "python",
   "nbconvert_exporter": "python",
   "pygments_lexer": "ipython3",
   "version": "3.9.13"
  },
  "orig_nbformat": 4,
  "vscode": {
   "interpreter": {
    "hash": "006c9a256d11bcb0c3194b67b6dd4253f125bec1d01822ebb3a5ddb0c9f9fa2c"
   }
  }
 },
 "nbformat": 4,
 "nbformat_minor": 2
}
